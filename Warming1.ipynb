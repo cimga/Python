{
  "nbformat": 4,
  "nbformat_minor": 0,
  "metadata": {
    "colab": {
      "provenance": [],
      "authorship_tag": "ABX9TyNPK+UQ4PBKC9nkAB5kzIPf",
      "include_colab_link": true
    },
    "kernelspec": {
      "name": "python3",
      "display_name": "Python 3"
    },
    "language_info": {
      "name": "python"
    }
  },
  "cells": [
    {
      "cell_type": "markdown",
      "metadata": {
        "id": "view-in-github",
        "colab_type": "text"
      },
      "source": [
        "<a href=\"https://colab.research.google.com/github/cimga/Python/blob/main/Warming1.ipynb\" target=\"_parent\"><img src=\"https://colab.research.google.com/assets/colab-badge.svg\" alt=\"Open In Colab\"/></a>"
      ]
    },
    {
      "cell_type": "code",
      "execution_count": null,
      "metadata": {
        "colab": {
          "base_uri": "https://localhost:8080/"
        },
        "id": "riqMjhKvEJcT",
        "outputId": "0a712cb0-d17f-4f02-ed8d-ad2b0f565995"
      },
      "outputs": [
        {
          "output_type": "stream",
          "name": "stdout",
          "text": [
            "yes\n",
            "a new cdoe block come\n"
          ]
        }
      ],
      "source": [
        "if 5>2:\n",
        "  print (\"yes\")\n",
        "\n",
        "print (\"a new cdoe block come\")"
      ]
    },
    {
      "cell_type": "code",
      "source": [
        "'''\n",
        "test for multiple comments\n",
        "ckjkcjdshkjchs\n",
        "hkfhkch\n",
        "'''\n",
        "\n",
        "print (5+8)"
      ],
      "metadata": {
        "colab": {
          "base_uri": "https://localhost:8080/"
        },
        "id": "RthV5g0pIxCC",
        "outputId": "e775e36a-7841-4c37-c343-1919bb0090d4"
      },
      "execution_count": null,
      "outputs": [
        {
          "output_type": "stream",
          "name": "stdout",
          "text": [
            "13\n"
          ]
        }
      ]
    },
    {
      "cell_type": "code",
      "source": [
        "name = \"john\"\n",
        "Name = 'me'"
      ],
      "metadata": {
        "id": "7oIn0ZtVLMeu"
      },
      "execution_count": null,
      "outputs": []
    },
    {
      "cell_type": "code",
      "source": [
        "print(name, Name)"
      ],
      "metadata": {
        "colab": {
          "base_uri": "https://localhost:8080/"
        },
        "id": "uqvz4fVXMlJO",
        "outputId": "7034a4bc-fe87-4be2-93de-9e16f5e23a3f"
      },
      "execution_count": null,
      "outputs": [
        {
          "output_type": "stream",
          "name": "stdout",
          "text": [
            "john me\n"
          ]
        }
      ]
    },
    {
      "cell_type": "code",
      "source": [
        "print (type(name))"
      ],
      "metadata": {
        "colab": {
          "base_uri": "https://localhost:8080/"
        },
        "id": "QwVjyNVfMt0_",
        "outputId": "8446d5f5-ee88-4d07-91b3-0d1b06c29509"
      },
      "execution_count": null,
      "outputs": [
        {
          "output_type": "stream",
          "name": "stdout",
          "text": [
            "<class 'str'>\n"
          ]
        }
      ]
    },
    {
      "cell_type": "code",
      "source": [
        "a,b,c = \"apple\", \"ball\", 5\n",
        "print(a)\n",
        "print(b)\n",
        "print(c)"
      ],
      "metadata": {
        "colab": {
          "base_uri": "https://localhost:8080/"
        },
        "id": "q1GZWVWsM1jU",
        "outputId": "4d1bd4a2-9a11-43c3-cc4a-a5d50c442d4d"
      },
      "execution_count": null,
      "outputs": [
        {
          "output_type": "stream",
          "name": "stdout",
          "text": [
            "apple\n",
            "ball\n",
            "5\n"
          ]
        }
      ]
    },
    {
      "cell_type": "code",
      "source": [
        "def firstFunc():\n",
        "  x=\"my nane is\"\n",
        "  print (x)\n",
        "\n",
        "firstFunc()"
      ],
      "metadata": {
        "colab": {
          "base_uri": "https://localhost:8080/"
        },
        "id": "OvNwPhJxNvIA",
        "outputId": "d1c8b85c-d7bf-4ca7-81e1-0a2d0dd3bf4f"
      },
      "execution_count": null,
      "outputs": [
        {
          "output_type": "stream",
          "name": "stdout",
          "text": [
            "my nane is\n"
          ]
        }
      ]
    },
    {
      "cell_type": "code",
      "source": [
        "y= \"kurt\"\n",
        "def f1 ():\n",
        "  global y\n",
        "  y=\"zirto\"\n",
        "  print(y)\n",
        "\n",
        "f1()\n",
        "print (y)\n"
      ],
      "metadata": {
        "colab": {
          "base_uri": "https://localhost:8080/"
        },
        "id": "qNqCgRemPOYL",
        "outputId": "c07b2782-8f49-46eb-dc7a-5b81de80bc05"
      },
      "execution_count": null,
      "outputs": [
        {
          "output_type": "stream",
          "name": "stdout",
          "text": [
            "zirto\n",
            "zirto\n"
          ]
        }
      ]
    },
    {
      "cell_type": "code",
      "source": [
        "f1()"
      ],
      "metadata": {
        "colab": {
          "base_uri": "https://localhost:8080/"
        },
        "id": "lSoB1GimPT1S",
        "outputId": "414d7afa-d4b6-45a1-c24e-38ab11b18f47"
      },
      "execution_count": null,
      "outputs": [
        {
          "output_type": "stream",
          "name": "stdout",
          "text": [
            "zirto\n"
          ]
        }
      ]
    },
    {
      "cell_type": "code",
      "source": [],
      "metadata": {
        "id": "CFezuswiSV-_"
      },
      "execution_count": null,
      "outputs": []
    }
  ]
}