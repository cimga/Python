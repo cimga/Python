{
  "nbformat": 4,
  "nbformat_minor": 0,
  "metadata": {
    "colab": {
      "provenance": [],
      "authorship_tag": "ABX9TyOVg+FhjTTjDYqt/F9wfKgS",
      "include_colab_link": true
    },
    "kernelspec": {
      "name": "python3",
      "display_name": "Python 3"
    },
    "language_info": {
      "name": "python"
    }
  },
  "cells": [
    {
      "cell_type": "markdown",
      "metadata": {
        "id": "view-in-github",
        "colab_type": "text"
      },
      "source": [
        "<a href=\"https://colab.research.google.com/github/cimga/Python/blob/main/Numbers.ipynb\" target=\"_parent\"><img src=\"https://colab.research.google.com/assets/colab-badge.svg\" alt=\"Open In Colab\"/></a>"
      ]
    },
    {
      "cell_type": "code",
      "execution_count": 14,
      "metadata": {
        "colab": {
          "base_uri": "https://localhost:8080/"
        },
        "id": "F5LzFA55s9U2",
        "outputId": "30a5ecd4-8f26-4bc6-c8d9-47ca581b0b90"
      },
      "outputs": [
        {
          "output_type": "stream",
          "name": "stdout",
          "text": [
            "<class 'complex'>\n",
            "real part =  2.0\n",
            "imaginary =  3.0\n"
          ]
        }
      ],
      "source": [
        "x= 2+3j # complex number\n",
        "print (type(x))\n",
        "print(\"real part = \", x.real)\n",
        "print(\"imaginary = \" , x.imag) # imaginary part of the complex number"
      ]
    },
    {
      "cell_type": "code",
      "source": [],
      "metadata": {
        "id": "EvH2tY4StKYm"
      },
      "execution_count": null,
      "outputs": []
    }
  ]
}